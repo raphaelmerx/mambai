{
  "nbformat": 4,
  "nbformat_minor": 0,
  "metadata": {
    "colab": {
      "provenance": []
    },
    "kernelspec": {
      "name": "python3",
      "display_name": "Python 3"
    },
    "language_info": {
      "name": "python"
    }
  },
  "cells": [
    {
      "cell_type": "markdown",
      "source": [
        "# Prompt tuning for translating English > Mambai\n",
        "\n",
        "Translate an English sentence to Mambai by:\n",
        "1. Find closest sentences using LASER\n",
        "2. Find dictionary entries for words in sentence\n",
        "3. Construct prompt, with a mix of example sentences and dict entries\n",
        "\n",
        "TODO:\n",
        "* Clean up Mambai corpus\n",
        "  * Some sentences poorly aligned\n",
        "  * Some dict entries need to be separated (e.g. \"sit; live\")\n",
        "* Get similar sentences based on syntactic similarity, instead of `get_sentences_starting_with_same_words`"
      ],
      "metadata": {
        "id": "99FcPOEGHhei"
      }
    },
    {
      "cell_type": "code",
      "source": [
        "!pip install laser_encoders"
      ],
      "metadata": {
        "colab": {
          "base_uri": "https://localhost:8080/"
        },
        "id": "NUQ1Wo3LEal4",
        "outputId": "041d3588-de87-452e-9c70-859f3d0305c7"
      },
      "execution_count": 7,
      "outputs": [
        {
          "output_type": "stream",
          "name": "stdout",
          "text": [
            "Collecting laser_encoders\n",
            "  Downloading laser_encoders-0.0.1-py3-none-any.whl (24 kB)\n",
            "Collecting sacremoses==0.1.0 (from laser_encoders)\n",
            "  Downloading sacremoses-0.1.0-py3-none-any.whl (895 kB)\n",
            "\u001b[2K     \u001b[90m━━━━━━━━━━━━━━━━━━━━━━━━━━━━━━━━━━━━━━━━\u001b[0m \u001b[32m895.1/895.1 kB\u001b[0m \u001b[31m14.4 MB/s\u001b[0m eta \u001b[36m0:00:00\u001b[0m\n",
            "\u001b[?25hCollecting unicategories>=0.1.2 (from laser_encoders)\n",
            "  Downloading unicategories-0.1.2.tar.gz (12 kB)\n",
            "  Preparing metadata (setup.py) ... \u001b[?25l\u001b[?25hdone\n",
            "Collecting sentencepiece>=0.1.99 (from laser_encoders)\n",
            "  Downloading sentencepiece-0.1.99-cp310-cp310-manylinux_2_17_x86_64.manylinux2014_x86_64.whl (1.3 MB)\n",
            "\u001b[2K     \u001b[90m━━━━━━━━━━━━━━━━━━━━━━━━━━━━━━━━━━━━━━━━\u001b[0m \u001b[32m1.3/1.3 MB\u001b[0m \u001b[31m42.8 MB/s\u001b[0m eta \u001b[36m0:00:00\u001b[0m\n",
            "\u001b[?25hRequirement already satisfied: numpy>=1.21.3 in /usr/local/lib/python3.10/dist-packages (from laser_encoders) (1.23.5)\n",
            "Requirement already satisfied: torch>=1.10.0 in /usr/local/lib/python3.10/dist-packages (from laser_encoders) (2.1.0+cu121)\n",
            "Collecting fairseq>=0.12.2 (from laser_encoders)\n",
            "  Downloading fairseq-0.12.2.tar.gz (9.6 MB)\n",
            "\u001b[2K     \u001b[90m━━━━━━━━━━━━━━━━━━━━━━━━━━━━━━━━━━━━━━━━\u001b[0m \u001b[32m9.6/9.6 MB\u001b[0m \u001b[31m51.5 MB/s\u001b[0m eta \u001b[36m0:00:00\u001b[0m\n",
            "\u001b[?25h  Installing build dependencies ... \u001b[?25l\u001b[?25hdone\n",
            "  Getting requirements to build wheel ... \u001b[?25l\u001b[?25hdone\n",
            "  Installing backend dependencies ... \u001b[?25l\u001b[?25hdone\n",
            "  Preparing metadata (pyproject.toml) ... \u001b[?25l\u001b[?25hdone\n",
            "Requirement already satisfied: regex in /usr/local/lib/python3.10/dist-packages (from sacremoses==0.1.0->laser_encoders) (2023.6.3)\n",
            "Requirement already satisfied: click in /usr/local/lib/python3.10/dist-packages (from sacremoses==0.1.0->laser_encoders) (8.1.7)\n",
            "Requirement already satisfied: joblib in /usr/local/lib/python3.10/dist-packages (from sacremoses==0.1.0->laser_encoders) (1.3.2)\n",
            "Requirement already satisfied: tqdm in /usr/local/lib/python3.10/dist-packages (from sacremoses==0.1.0->laser_encoders) (4.66.1)\n",
            "Requirement already satisfied: cffi in /usr/local/lib/python3.10/dist-packages (from fairseq>=0.12.2->laser_encoders) (1.16.0)\n",
            "Requirement already satisfied: cython in /usr/local/lib/python3.10/dist-packages (from fairseq>=0.12.2->laser_encoders) (3.0.8)\n",
            "Collecting hydra-core<1.1,>=1.0.7 (from fairseq>=0.12.2->laser_encoders)\n",
            "  Downloading hydra_core-1.0.7-py3-none-any.whl (123 kB)\n",
            "\u001b[2K     \u001b[90m━━━━━━━━━━━━━━━━━━━━━━━━━━━━━━━━━━━━━━━━\u001b[0m \u001b[32m123.8/123.8 kB\u001b[0m \u001b[31m12.8 MB/s\u001b[0m eta \u001b[36m0:00:00\u001b[0m\n",
            "\u001b[?25hCollecting omegaconf<2.1 (from fairseq>=0.12.2->laser_encoders)\n",
            "  Downloading omegaconf-2.0.6-py3-none-any.whl (36 kB)\n",
            "Collecting sacrebleu>=1.4.12 (from fairseq>=0.12.2->laser_encoders)\n",
            "  Downloading sacrebleu-2.4.0-py3-none-any.whl (106 kB)\n",
            "\u001b[2K     \u001b[90m━━━━━━━━━━━━━━━━━━━━━━━━━━━━━━━━━━━━━━━━\u001b[0m \u001b[32m106.3/106.3 kB\u001b[0m \u001b[31m12.3 MB/s\u001b[0m eta \u001b[36m0:00:00\u001b[0m\n",
            "\u001b[?25hCollecting bitarray (from fairseq>=0.12.2->laser_encoders)\n",
            "  Downloading bitarray-2.9.2-cp310-cp310-manylinux_2_17_x86_64.manylinux2014_x86_64.whl (288 kB)\n",
            "\u001b[2K     \u001b[90m━━━━━━━━━━━━━━━━━━━━━━━━━━━━━━━━━━━━━━━━\u001b[0m \u001b[32m288.3/288.3 kB\u001b[0m \u001b[31m3.5 MB/s\u001b[0m eta \u001b[36m0:00:00\u001b[0m\n",
            "\u001b[?25hRequirement already satisfied: torchaudio>=0.8.0 in /usr/local/lib/python3.10/dist-packages (from fairseq>=0.12.2->laser_encoders) (2.1.0+cu121)\n",
            "Requirement already satisfied: filelock in /usr/local/lib/python3.10/dist-packages (from torch>=1.10.0->laser_encoders) (3.13.1)\n",
            "Requirement already satisfied: typing-extensions in /usr/local/lib/python3.10/dist-packages (from torch>=1.10.0->laser_encoders) (4.5.0)\n",
            "Requirement already satisfied: sympy in /usr/local/lib/python3.10/dist-packages (from torch>=1.10.0->laser_encoders) (1.12)\n",
            "Requirement already satisfied: networkx in /usr/local/lib/python3.10/dist-packages (from torch>=1.10.0->laser_encoders) (3.2.1)\n",
            "Requirement already satisfied: jinja2 in /usr/local/lib/python3.10/dist-packages (from torch>=1.10.0->laser_encoders) (3.1.3)\n",
            "Requirement already satisfied: fsspec in /usr/local/lib/python3.10/dist-packages (from torch>=1.10.0->laser_encoders) (2023.6.0)\n",
            "Requirement already satisfied: triton==2.1.0 in /usr/local/lib/python3.10/dist-packages (from torch>=1.10.0->laser_encoders) (2.1.0)\n",
            "Requirement already satisfied: appdirs in /usr/local/lib/python3.10/dist-packages (from unicategories>=0.1.2->laser_encoders) (1.4.4)\n",
            "Collecting antlr4-python3-runtime==4.8 (from hydra-core<1.1,>=1.0.7->fairseq>=0.12.2->laser_encoders)\n",
            "  Downloading antlr4-python3-runtime-4.8.tar.gz (112 kB)\n",
            "\u001b[2K     \u001b[90m━━━━━━━━━━━━━━━━━━━━━━━━━━━━━━━━━━━━━━━━\u001b[0m \u001b[32m112.4/112.4 kB\u001b[0m \u001b[31m11.0 MB/s\u001b[0m eta \u001b[36m0:00:00\u001b[0m\n",
            "\u001b[?25h  Preparing metadata (setup.py) ... \u001b[?25l\u001b[?25hdone\n",
            "Requirement already satisfied: PyYAML>=5.1.* in /usr/local/lib/python3.10/dist-packages (from omegaconf<2.1->fairseq>=0.12.2->laser_encoders) (6.0.1)\n",
            "Collecting portalocker (from sacrebleu>=1.4.12->fairseq>=0.12.2->laser_encoders)\n",
            "  Downloading portalocker-2.8.2-py3-none-any.whl (17 kB)\n",
            "Requirement already satisfied: tabulate>=0.8.9 in /usr/local/lib/python3.10/dist-packages (from sacrebleu>=1.4.12->fairseq>=0.12.2->laser_encoders) (0.9.0)\n",
            "Collecting colorama (from sacrebleu>=1.4.12->fairseq>=0.12.2->laser_encoders)\n",
            "  Downloading colorama-0.4.6-py2.py3-none-any.whl (25 kB)\n",
            "Requirement already satisfied: lxml in /usr/local/lib/python3.10/dist-packages (from sacrebleu>=1.4.12->fairseq>=0.12.2->laser_encoders) (4.9.4)\n",
            "Requirement already satisfied: pycparser in /usr/local/lib/python3.10/dist-packages (from cffi->fairseq>=0.12.2->laser_encoders) (2.21)\n",
            "Requirement already satisfied: MarkupSafe>=2.0 in /usr/local/lib/python3.10/dist-packages (from jinja2->torch>=1.10.0->laser_encoders) (2.1.4)\n",
            "Requirement already satisfied: mpmath>=0.19 in /usr/local/lib/python3.10/dist-packages (from sympy->torch>=1.10.0->laser_encoders) (1.3.0)\n",
            "Building wheels for collected packages: fairseq, unicategories, antlr4-python3-runtime\n",
            "  Building wheel for fairseq (pyproject.toml) ... \u001b[?25l\u001b[?25hdone\n",
            "  Created wheel for fairseq: filename=fairseq-0.12.2-cp310-cp310-linux_x86_64.whl size=11291821 sha256=32e19b6741f0db000fe1be2b7fae77f6278bae8bb20f5d276ac3460601b5b5d6\n",
            "  Stored in directory: /root/.cache/pip/wheels/e4/35/55/9c66f65ec7c83fd6fbc2b9502a0ac81b2448a1196159dacc32\n",
            "  Building wheel for unicategories (setup.py) ... \u001b[?25l\u001b[?25hdone\n",
            "  Created wheel for unicategories: filename=unicategories-0.1.2-py2.py3-none-any.whl size=30843 sha256=36fcd9a134bab77c3131dd137173136e3b3483998281c6f630cc0164cd29e222\n",
            "  Stored in directory: /root/.cache/pip/wheels/0b/6d/14/7135674b9daa3996f7f0d9bc1ccff5b7d50d6f1c4a16dc7d90\n",
            "  Building wheel for antlr4-python3-runtime (setup.py) ... \u001b[?25l\u001b[?25hdone\n",
            "  Created wheel for antlr4-python3-runtime: filename=antlr4_python3_runtime-4.8-py3-none-any.whl size=141210 sha256=e6abdb1f144824307c80e492bd04ea265ed67c5eef96d1e2152cc16881a8afc1\n",
            "  Stored in directory: /root/.cache/pip/wheels/a7/20/bd/e1477d664f22d99989fd28ee1a43d6633dddb5cb9e801350d5\n",
            "Successfully built fairseq unicategories antlr4-python3-runtime\n",
            "Installing collected packages: sentencepiece, bitarray, antlr4-python3-runtime, unicategories, sacremoses, portalocker, omegaconf, colorama, sacrebleu, hydra-core, fairseq, laser_encoders\n",
            "Successfully installed antlr4-python3-runtime-4.8 bitarray-2.9.2 colorama-0.4.6 fairseq-0.12.2 hydra-core-1.0.7 laser_encoders-0.0.1 omegaconf-2.0.6 portalocker-2.8.2 sacrebleu-2.4.0 sacremoses-0.1.0 sentencepiece-0.1.99 unicategories-0.1.2\n"
          ]
        }
      ]
    },
    {
      "cell_type": "markdown",
      "source": [
        "### Get Mambai corpus, split between sentences and dict entries"
      ],
      "metadata": {
        "id": "u3FCNpgjQfmJ"
      }
    },
    {
      "cell_type": "code",
      "source": [
        "!wget -O mambai_parallel_data.csv https://docs.google.com/spreadsheets/d/1AtPC9JCq-2CWFnjYc-CRhS7WFRNtm-VPV7dcDENE2ss/export?format=csv&id=1AtPC9JCq-2CWFnjYc-CRhS7WFRNtm-VPV7dcDENE2ss&gid=1811721104"
      ],
      "metadata": {
        "colab": {
          "base_uri": "https://localhost:8080/"
        },
        "id": "BxF_ruh0SAJZ",
        "outputId": "026ce27e-b324-49fa-bca0-61eac259a09d"
      },
      "execution_count": 50,
      "outputs": [
        {
          "output_type": "stream",
          "name": "stdout",
          "text": [
            "--2024-01-29 03:36:02--  https://docs.google.com/spreadsheets/d/1AtPC9JCq-2CWFnjYc-CRhS7WFRNtm-VPV7dcDENE2ss/export?format=csv\n",
            "Resolving docs.google.com (docs.google.com)... 142.250.97.102, 142.250.97.100, 142.250.97.139, ...\n",
            "Connecting to docs.google.com (docs.google.com)|142.250.97.102|:443... connected.\n",
            "HTTP request sent, awaiting response... 307 Temporary Redirect\n",
            "Location: https://doc-04-94-sheets.googleusercontent.com/export/54bogvaave6cua4cdnls17ksc4/djnt29o9njajsgmqa493p7fs4k/1706499360000/111605484374857807395/*/1AtPC9JCq-2CWFnjYc-CRhS7WFRNtm-VPV7dcDENE2ss?format=csv [following]\n",
            "Warning: wildcards not supported in HTTP.\n",
            "--2024-01-29 03:36:02--  https://doc-04-94-sheets.googleusercontent.com/export/54bogvaave6cua4cdnls17ksc4/djnt29o9njajsgmqa493p7fs4k/1706499360000/111605484374857807395/*/1AtPC9JCq-2CWFnjYc-CRhS7WFRNtm-VPV7dcDENE2ss?format=csv\n",
            "Resolving doc-04-94-sheets.googleusercontent.com (doc-04-94-sheets.googleusercontent.com)... 173.194.210.132, 2607:f8b0:400c:c0f::84\n",
            "Connecting to doc-04-94-sheets.googleusercontent.com (doc-04-94-sheets.googleusercontent.com)|173.194.210.132|:443... connected.\n",
            "HTTP request sent, awaiting response... 200 OK\n",
            "Length: unspecified [text/csv]\n",
            "Saving to: ‘mambai_parallel_data.csv’\n",
            "\n",
            "mambai_parallel_dat     [ <=>                ] 436.31K  --.-KB/s    in 0.03s   \n",
            "\n",
            "2024-01-29 03:36:02 (15.4 MB/s) - ‘mambai_parallel_data.csv’ saved [446780]\n",
            "\n"
          ]
        }
      ]
    },
    {
      "cell_type": "code",
      "source": [
        "import csv\n",
        "import json\n",
        "import random\n",
        "\n",
        "with open('mambai_parallel_data.csv') as f:\n",
        "    reader = csv.DictReader(f)\n",
        "    data = list(reader)\n",
        "\n",
        "print(f\"Total of {len(data)} rows in the dataset.\")\n",
        "\n",
        "random.sample(data, 5)\n",
        "\n",
        "# for now, keep only rows where Mambai and English are defined\n",
        "data = [row for row in data if row['Mambai (mgm)'] and row['English (eng)']]\n",
        "print(f\"Total of {len(data)} rows where both Mambai and English are defined.\")"
      ],
      "metadata": {
        "colab": {
          "base_uri": "https://localhost:8080/"
        },
        "id": "7yJi5_ROHxbx",
        "outputId": "fe948037-a080-4457-bc00-298dc87a818c"
      },
      "execution_count": 51,
      "outputs": [
        {
          "output_type": "stream",
          "name": "stdout",
          "text": [
            "Total of 7309 rows in the dataset.\n",
            "Total of 7192 rows where both Mambai and English are defined.\n"
          ]
        }
      ]
    },
    {
      "cell_type": "code",
      "source": [
        "\n",
        "for i, row in enumerate(data)\n",
        "    # dict starts where Mambai = \"á\" and English = \"to eat\"\n",
        "    if row['Mambai (mgm)'] == \"á\" and row['English (eng)'] == \"to eat\":\n",
        "        start_of_dict_index = i\n",
        "        break\n",
        "\n",
        "print(f\"Dict starts at index {start_of_dict_index}\")\n",
        "\n",
        "dict_entries = data[start_of_dict_index:]"
      ],
      "metadata": {
        "colab": {
          "base_uri": "https://localhost:8080/"
        },
        "id": "e1jl2YHnKOyb",
        "outputId": "b1a8996e-78b7-427b-b444-e4a29e22acee"
      },
      "execution_count": 21,
      "outputs": [
        {
          "output_type": "stream",
          "name": "stdout",
          "text": [
            "Dict starts at index 3054\n"
          ]
        }
      ]
    },
    {
      "cell_type": "markdown",
      "source": [
        "### Get LASER encoder, encode English sentences from Mambai corpus"
      ],
      "metadata": {
        "id": "KpbX6yQ9QjWi"
      }
    },
    {
      "cell_type": "code",
      "source": [
        "from laser_encoders import LaserEncoderPipeline\n",
        "\n",
        "encoder = LaserEncoderPipeline(lang=\"eng_Latn\")\n",
        "\n",
        "embeddings = encoder.encode_sentences([row['English (eng)'] for row in data])"
      ],
      "metadata": {
        "id": "sWujkAkbH9jL"
      },
      "execution_count": 13,
      "outputs": []
    },
    {
      "cell_type": "markdown",
      "source": [
        "### Construct prompt"
      ],
      "metadata": {
        "id": "2dvdmc61QziP"
      }
    },
    {
      "cell_type": "code",
      "source": [
        "from sklearn.metrics.pairwise import cosine_similarity\n",
        "\n",
        "def get_closest_sentences(input):\n",
        "    embedded_input = encoder.encode_sentences([input])\n",
        "    closest_indices = cosine_similarity(embedded_input, embeddings)[0].argsort()[-5:][::-1]\n",
        "    return [data[i] for i in closest_indices]\n",
        "\n",
        "def get_sentences_starting_with_same_words(input):\n",
        "    input_words = input.split()\n",
        "    first_two_words = \" \".join(input_words[:2])\n",
        "    for row in data:\n",
        "        if row['English (eng)'].startswith(first_two_words):\n",
        "            yield row\n",
        "\n",
        "\n",
        "def get_relevant_dict_entries(input):\n",
        "    input_words = input.split()\n",
        "    for word in input_words:\n",
        "        for row in dict_entries:\n",
        "            if row['English (eng)'] == word:\n",
        "                yield row\n",
        "                break"
      ],
      "metadata": {
        "id": "KrrZMS9uKYUY"
      },
      "execution_count": 42,
      "outputs": []
    },
    {
      "cell_type": "code",
      "source": [
        "prompt = \"\"\"You are a translator for the Mambai language, originally from Timor-Leste.\n",
        "\n",
        "Here are some example sentences, translated from English to Mambai:\n",
        "{sentences_str}\n",
        "\n",
        "Here are some dictionary entries:\n",
        "{dict_str}\n",
        "\n",
        "Translate the following sentence from English to Mambai:\n",
        "{input}\n",
        "\"\"\"\n",
        "\n",
        "def get_sentences_str(rows):\n",
        "    out = ''\n",
        "    for row in rows:\n",
        "        out += f\"English: {row['English (eng)']}\\n\"\n",
        "        out += f\"Mambai: {row['Mambai (mgm)']}\\n\"\n",
        "        out += \"\\n\"\n",
        "    return out\n",
        "\n",
        "def get_dict_str(dict_entries):\n",
        "    out = \"\"\n",
        "    for row in dict_entries:\n",
        "        out += f\"English: {row['English (eng)']} | \"\n",
        "        out += f\"Mambai: {row['Mambai (mgm)']}\\n\"\n",
        "    return out\n",
        "\n",
        "def get_prompt(input):\n",
        "    sentences = get_closest_sentences(input)\n",
        "    more_sentences = list(get_sentences_starting_with_same_words(input))\n",
        "    sentences.extend(more_sentences[:5])\n",
        "    dict_entries = list(get_relevant_dict_entries(input))\n",
        "    return prompt.format(\n",
        "        sentences_str=get_sentences_str(sentences),\n",
        "        dict_str=get_dict_str(dict_entries),\n",
        "        input=input\n",
        "    )"
      ],
      "metadata": {
        "id": "dAlNs-5CKY3w"
      },
      "execution_count": 45,
      "outputs": []
    },
    {
      "cell_type": "code",
      "source": [
        "print(get_prompt(\"We will be sitting there having coffee\"))"
      ],
      "metadata": {
        "colab": {
          "base_uri": "https://localhost:8080/"
        },
        "id": "6wfRuKwIMsxt",
        "outputId": "f77dba37-b11d-4bdd-b54e-9c70db43235d"
      },
      "execution_count": 46,
      "outputs": [
        {
          "output_type": "stream",
          "name": "stdout",
          "text": [
            "You are a translator for the Mambai language, originally from Timor-Leste.\n",
            "\n",
            "Here are some example sentences, translated from English to Mambai:\n",
            "English: She's going to make coffee\n",
            "Mambai: Urá pun sôp kafé\n",
            "\n",
            "English: She will make coffee\n",
            "Mambai: Urá hei pun kafé\n",
            "\n",
            "English: She's about to make coffee\n",
            "Mambai: Urá pun tel sôp kafé\n",
            "\n",
            "English: She makes coffee\n",
            "Mambai: urá pun kafé\n",
            "\n",
            "English: Please bring something sweet to eat with the coffee\n",
            "Mambai: Favór id ôd nam midar seri ma mua nor kafé\n",
            "\n",
            "English: We will be happy forever.\n",
            "Mambai: It hei kontente la man hati.\n",
            "\n",
            "English: We will be with God.\n",
            "Mambai: It hei mori futu nor Maromak.\n",
            "\n",
            "English: We will sit together.\n",
            "Mambai: Favór id pei bal óleu nor er.\n",
            "\n",
            "English: We will come back in one hour.\n",
            "Mambai: Au hakarak meza kid lao ada hoda.\n",
            "\n",
            "English: We will sit together.\n",
            "Mambai: It hei medei put.\n",
            "\n",
            "\n",
            "\n",
            "Here are some dictionary entries:\n",
            "English: will | Mambai: hei\n",
            "English: there | Mambai: ran\n",
            "English: coffee | Mambai: kafé, kapé\n",
            "\n",
            "\n",
            "Translate the following sentence from English to Mambai:\n",
            "We will be sitting there having coffee\n",
            "\n"
          ]
        }
      ]
    },
    {
      "cell_type": "code",
      "source": [],
      "metadata": {
        "id": "08zV-MwSMwTd"
      },
      "execution_count": null,
      "outputs": []
    }
  ]
}