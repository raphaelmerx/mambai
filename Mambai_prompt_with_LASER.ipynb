{
  "nbformat": 4,
  "nbformat_minor": 0,
  "metadata": {
    "colab": {
      "provenance": []
    },
    "kernelspec": {
      "name": "python3",
      "display_name": "Python 3"
    },
    "language_info": {
      "name": "python"
    }
  },
  "cells": [
    {
      "cell_type": "markdown",
      "source": [
        "# Prompt tuning for translating English > Mambai\n",
        "\n",
        "Translate an English sentence to Mambai by:\n",
        "1. Find closest sentences using LASER\n",
        "2. Find dictionary entries for words in sentence\n",
        "3. Construct prompt, with a mix of example sentences and dict entries\n",
        "\n",
        "TODO:\n",
        "* Clean up Mambai corpus\n",
        "  * Some dict entries missing as it relies on font weight, which is not always OCRed correctly\n",
        "    *  others need to be separated (e.g. \"sit; live\")\n",
        "  * Some sentences poorly aligned\n",
        "  \n",
        "* Get similar sentences based on syntactic similarity, instead of `get_sentences_starting_with_same_words`"
      ],
      "metadata": {
        "id": "99FcPOEGHhei"
      }
    },
    {
      "cell_type": "code",
      "source": [
        "!pip install laser_encoders\n",
        "!python -m spacy download en_core_web_sm\n",
        "# !wget -O mambai_parallel_data.csv https://docs.google.com/spreadsheets/d/1AtPC9JCq-2CWFnjYc-CRhS7WFRNtm-VPV7dcDENE2ss/export?format=csv&id=1AtPC9JCq-2CWFnjYc-CRhS7WFRNtm-VPV7dcDENE2ss&gid=1811721104"
      ],
      "metadata": {
        "id": "NUQ1Wo3LEal4"
      },
      "execution_count": null,
      "outputs": []
    },
    {
      "cell_type": "markdown",
      "source": [
        "### Get Mambai corpus, split between sentences and dict entries"
      ],
      "metadata": {
        "id": "u3FCNpgjQfmJ"
      }
    },
    {
      "cell_type": "code",
      "source": [
        "import csv\n",
        "import json\n",
        "import random\n",
        "\n",
        "with open('mambai_parallel_data.csv') as f:\n",
        "    reader = csv.DictReader(f)\n",
        "    data = list(reader)\n",
        "\n",
        "print(f\"Total of {len(data)} rows in the dataset.\")\n",
        "\n",
        "random.sample(data, 5)\n",
        "\n",
        "# for now, keep only rows where Mambai and English are defined\n",
        "data = [row for row in data if row['Mambai (mgm)'] and row['English (eng)']]\n",
        "print(f\"Total of {len(data)} rows where both Mambai and English are defined.\")"
      ],
      "metadata": {
        "colab": {
          "base_uri": "https://localhost:8080/"
        },
        "id": "7yJi5_ROHxbx",
        "outputId": "0f1aba58-0eb2-4c01-fafc-6163cdfb497e"
      },
      "execution_count": 3,
      "outputs": [
        {
          "output_type": "stream",
          "name": "stdout",
          "text": [
            "Total of 1792 rows in the dataset.\n",
            "Total of 1681 rows where both Mambai and English are defined.\n"
          ]
        }
      ]
    },
    {
      "cell_type": "code",
      "source": [
        "import json\n",
        "\n",
        "with open(\"eng_mgm.json\") as f:\n",
        "    dict_entries = json.load(f)"
      ],
      "metadata": {
        "id": "e1jl2YHnKOyb"
      },
      "execution_count": 4,
      "outputs": []
    },
    {
      "cell_type": "markdown",
      "source": [
        "### Get LASER encoder, encode English sentences from Mambai corpus"
      ],
      "metadata": {
        "id": "KpbX6yQ9QjWi"
      }
    },
    {
      "cell_type": "code",
      "source": [
        "from laser_encoders import LaserEncoderPipeline\n",
        "\n",
        "encoder = LaserEncoderPipeline(lang=\"eng_Latn\")\n",
        "\n",
        "embeddings = encoder.encode_sentences([row['English (eng)'] for row in data])"
      ],
      "metadata": {
        "id": "sWujkAkbH9jL",
        "colab": {
          "base_uri": "https://localhost:8080/"
        },
        "outputId": "b997d471-6fc3-47dd-8863-f9fb909f3962"
      },
      "execution_count": 5,
      "outputs": [
        {
          "output_type": "stream",
          "name": "stderr",
          "text": [
            "100%|██████████| 1.01M/1.01M [00:00<00:00, 17.4MB/s]\n",
            "100%|██████████| 179M/179M [00:01<00:00, 93.1MB/s]\n",
            "100%|██████████| 470k/470k [00:00<00:00, 9.12MB/s]\n"
          ]
        }
      ]
    },
    {
      "cell_type": "markdown",
      "source": [
        "### Construct prompt"
      ],
      "metadata": {
        "id": "2dvdmc61QziP"
      }
    },
    {
      "cell_type": "code",
      "source": [
        "from sklearn.metrics.pairwise import cosine_similarity\n",
        "\n",
        "import spacy\n",
        "nlp = spacy.load(\"en_core_web_sm\")\n",
        "\n",
        "\n",
        "def get_closest_sentences(input):\n",
        "    embedded_input = encoder.encode_sentences([input])\n",
        "    closest_indices = cosine_similarity(embedded_input, embeddings)[0].argsort()[-5:][::-1]\n",
        "    return [data[i] for i in closest_indices]\n",
        "\n",
        "def get_sentences_starting_with_same_words(input):\n",
        "    input_words = input.split()\n",
        "    first_two_words = \" \".join(input_words[:2])\n",
        "    for row in data:\n",
        "        if row['English (eng)'].startswith(first_two_words):\n",
        "            yield row\n",
        "\n",
        "def get_relevant_dict_entries(sent):\n",
        "    doc = nlp(sent)\n",
        "    lemmas = [token.lemma_ for token in doc]\n",
        "    for lemma in lemmas:\n",
        "        for row in dict_entries:\n",
        "            if row['entry'] == lemma:\n",
        "                yield row"
      ],
      "metadata": {
        "id": "KrrZMS9uKYUY"
      },
      "execution_count": 7,
      "outputs": []
    },
    {
      "cell_type": "code",
      "source": [
        "prompt = \"\"\"You are a translator for the Mambai language, originally from Timor-Leste.\n",
        "\n",
        "# Example sentences\n",
        "{sentences_str}\n",
        "\n",
        "# Dictionary entries\n",
        "{dict_str}\n",
        "\n",
        "English: {input}\n",
        "Reasoning:\"\"\"\n",
        "\n",
        "def get_sentences_str(rows):\n",
        "    out = ''\n",
        "    for row in rows:\n",
        "        out += f\"English: {row['English (eng)']}\\n\"\n",
        "        out += f\"Mambai: {row['Mambai (mgm)']}\\n\"\n",
        "        out += \"\\n\"\n",
        "    return out\n",
        "\n",
        "def get_dict_str(dict_entries):\n",
        "    out = \"\"\n",
        "    for row in dict_entries:\n",
        "        out += f\"English: {row['entry']}\\n\"\n",
        "        out += f\"Mambai: {row['definition']}\\n\"\n",
        "        out += \"\\n\"\n",
        "    return out\n",
        "\n",
        "def get_prompt(input):\n",
        "    sentences = get_closest_sentences(input)\n",
        "    more_sentences = list(get_sentences_starting_with_same_words(input))\n",
        "    sentences.extend(more_sentences[:5])\n",
        "    dict_entries = list(get_relevant_dict_entries(input))\n",
        "    return prompt.format(\n",
        "        sentences_str=get_sentences_str(sentences),\n",
        "        dict_str=get_dict_str(dict_entries),\n",
        "        input=input\n",
        "    )"
      ],
      "metadata": {
        "id": "dAlNs-5CKY3w"
      },
      "execution_count": 14,
      "outputs": []
    },
    {
      "cell_type": "code",
      "source": [
        "print(get_prompt(\"We will be sitting there having coffee\"))\n",
        "\n",
        "# chatGPT gives: It hei medei lala mua kafé."
      ],
      "metadata": {
        "colab": {
          "base_uri": "https://localhost:8080/"
        },
        "id": "6wfRuKwIMsxt",
        "outputId": "37bf4ab7-098c-46ad-a7b1-09ad17e426bd"
      },
      "execution_count": 15,
      "outputs": [
        {
          "output_type": "stream",
          "name": "stdout",
          "text": [
            "You are a translator for the Mambai language, originally from Timor-Leste.\n",
            "\n",
            "# Example sentences\n",
            "English: \\Ne would like to stop somewhere for lunch (for coffee).\n",
            "Mambai: Am hakarak deskansa nei hati kid ôd mua meiudia (ôd ên kafé).\n",
            "\n",
            "English: Please bring something sweet to eat with the coffee.\n",
            "Mambai: Favór id ôd nam midar seri ma mua nor kafé.\n",
            "\n",
            "English: Do you have milk for the tea (coffee)?\n",
            "Mambai: Nei sus-era paraôd sur put nor xa (kafé) rai?\n",
            "\n",
            "English: We will sit together.\n",
            "Mambai: It hei medei put.\n",
            "\n",
            "English: I will give you a sedative.\n",
            "Mambai: Au hei né ai-moruk boe ni.\n",
            "\n",
            "English: We will be happy forever.\n",
            "Mambai: It hei kontente la man hati.\n",
            "\n",
            "English: We will be with God.\n",
            "Mambai: It hei mori futu nor Maromak.\n",
            "\n",
            "English: We will sit together.\n",
            "Mambai: It hei medei put.\n",
            "\n",
            "English: We will come back in one hour.\n",
            "Mambai: Am ma sul nei oras id ni lala.\n",
            "\n",
            "English: We will have to spend the night in this village.\n",
            "Mambai: It tenke boe nei knua rai.\n",
            "\n",
            "\n",
            "\n",
            "# Dictionary entries\n",
            "English: we\n",
            "Mambai: (excluding you) am\n",
            "\n",
            "English: we\n",
            "Mambai: (including you) it\n",
            "\n",
            "English: will\n",
            "Mambai: verb)\n",
            "\n",
            "English: will\n",
            "Mambai: hei\n",
            "\n",
            "English: will\n",
            "Mambai: (n.) hakarak\n",
            "\n",
            "English: have\n",
            "Mambai: nei\n",
            "\n",
            "English: coffee\n",
            "Mambai: kapé\n",
            "\n",
            "English: coffee\n",
            "Mambai: kafé\n",
            "\n",
            "\n",
            "\n",
            "English: We will be sitting there having coffee\n",
            "Mambai:\n"
          ]
        }
      ]
    }
  ]
}