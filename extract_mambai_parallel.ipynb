{
 "cells": [
  {
   "cell_type": "markdown",
   "metadata": {},
   "source": [
    "# Finding parallel text in the Mambai Language Manual with hunalign\n",
    "\n",
    "- Inputs: `Mambai Language Manual parallel.docx`\n",
    "- Outputs: parallel corpus in TSV format: `mambai_language_manual_parallel.tsv`\n",
    "\n",
    "Requirements:\n",
    "\n",
    "1. Setup Python requirements: `python3 -m venv .venv && source .venv/bin/activate && pip install -r requirements.txt`\n",
    "2. Setup hunalign, and adjust HUNALIGN_BIN accordingly\n",
    "3. Run this notebook\n"
   ]
  },
  {
   "cell_type": "code",
   "execution_count": null,
   "metadata": {},
   "outputs": [],
   "source": [
    "HUNALIGN_BIN = \"../hunalign/src/hunalign/hunalign\""
   ]
  },
  {
   "cell_type": "markdown",
   "metadata": {},
   "source": [
    "### 1. Extract sentences from doc, with Mambai in bold and English in regular fonts\n"
   ]
  },
  {
   "cell_type": "code",
   "execution_count": 44,
   "metadata": {},
   "outputs": [
    {
     "name": "stdout",
     "output_type": "stream",
     "text": [
      "Found a total of 1125 potential Mambai sentences and 1146 English sentences.\n"
     ]
    }
   ],
   "source": [
    "from docx import Document\n",
    "\n",
    "\n",
    "def extract_sentences(docx_path):\n",
    "    mambai_sentences = []\n",
    "    english_sentences = []\n",
    "\n",
    "    doc = Document(docx_path)\n",
    "\n",
    "    for paragraph in doc.paragraphs:\n",
    "        # Temporary storage for constructing sentences\n",
    "        mambai_temp = \"\"\n",
    "        english_temp = \"\"\n",
    "\n",
    "        for run in paragraph.runs:\n",
    "            # if the sentence is all upper case, it's a section delimiter, so add a <p> to both mambai and english sents\n",
    "            if run.text.isupper():\n",
    "                mambai_sentences.append(\"<p>\")\n",
    "                english_sentences.append(\"<p>\")\n",
    "                continue\n",
    "            if run.bold:\n",
    "                # Append text to Mambai sentence\n",
    "                mambai_temp += run.text\n",
    "            else:\n",
    "                # Append text to English sentence\n",
    "                english_temp += run.text\n",
    "\n",
    "        # Add to respective lists if the sentence is not empty\n",
    "        if mambai_temp:\n",
    "            mambai_sentences.append(mambai_temp)\n",
    "        if english_temp:\n",
    "            english_sentences.append(english_temp)\n",
    "\n",
    "    return mambai_sentences, english_sentences\n",
    "\n",
    "\n",
    "file_path = \"/Users/raphaelmerx/Downloads/Mambai/Mambai Language Manual parallel.docx\"\n",
    "mambai_sentences, english_sentences = extract_sentences(file_path)\n",
    "\n",
    "print(\n",
    "    f\"Found a total of {len(mambai_sentences)} potential Mambai sentences and {len(english_sentences)} English sentences.\"\n",
    ")"
   ]
  },
  {
   "cell_type": "markdown",
   "metadata": {},
   "source": [
    "### 2. Sentencize and tokenize text\n",
    "\n",
    "Using nltk, in preparation for hunalign, which expects one sentence per line, and text to be tokenized.\n"
   ]
  },
  {
   "cell_type": "code",
   "execution_count": 46,
   "metadata": {},
   "outputs": [
    {
     "name": "stdout",
     "output_type": "stream",
     "text": [
      "Total of 1279 sentences in mambai_sentences.\n",
      "Total of 1273 sentences in english_sentences.\n"
     ]
    }
   ],
   "source": [
    "# nltk: sentencize\n",
    "import nltk\n",
    "from nltk.tokenize import sent_tokenize\n",
    "\n",
    "\n",
    "def break_down_sentences(items):\n",
    "    new_items = []\n",
    "    for item in items:\n",
    "        item = item.replace(\"\\n\", \" \").strip()\n",
    "        if \"<p>\" in item:\n",
    "            new_items.append(item)\n",
    "        else:\n",
    "            new_items.extend(sent_tokenize(item))\n",
    "    return new_items\n",
    "\n",
    "\n",
    "mambai_sentences = break_down_sentences(mambai_sentences)\n",
    "english_sentences = break_down_sentences(english_sentences)\n",
    "print(f\"Total of {len(mambai_sentences)} sentences in mambai_sentences.\")\n",
    "print(f\"Total of {len(english_sentences)} sentences in english_sentences.\")"
   ]
  },
  {
   "cell_type": "code",
   "execution_count": 48,
   "metadata": {},
   "outputs": [
    {
     "name": "stdout",
     "output_type": "stream",
     "text": [
      "['<p>', 'Good morning.', 'Good afternoon.', 'Good night.', 'How are you?', 'Well, thanks.', 'And how are you?', 'Goodbye.', 'See you tomorrow.', \"That's good!\", 'Congratulations!', 'Get well soon!', 'Please.', 'Thank you.', 'Thank you very much.', \"Don't mention it.\", 'Keep up your spirits!', 'There is/are.', \"There isn't/are not\", \"Excuse me (= I'm sorry Excuse me (for a moment) Please excuse me.\", \"I'm sorry (to have to do this) Do you mind?\", 'Is it all right?', 'May I go?', 'Please give me/us...', 'Please also bring me/us....', 'Please help me!', 'Please hurry!', \"It's important.\", \"It's urgent.\", \"I can't.\", 'Is it possible?', \"It's not possible.\", \"I'm (very) tired.\", \"I'm hungry.\", \"I'm thirsty.\", 'I am (very) sick.', \"(man's reply); (woman's reply)\", 'Take me to a doctor.', 'Take me to a hospital.', 'Where is the...?', 'Here you are.', \"I don't know.\", \"I don't understand.\", 'Do you understand?', 'Do you see what I mean?', \"Don't worry.\", \"I don't want this.\", \"I don't like this.\", 'Do you want it (some)?', 'Show me...', 'Like this (in this way).', 'Come here!', 'Go away!', 'Just a minute!', 'Please come in.', 'I have no money.', \"I don't have enough money.\", \"Don't bother me!\", 'Stop!', \"Don't shoot!\", \"I'm looking for a....\", 'I will call the police.', 'Where is the priest?', \"Excuse me: I didn't hear you.\", 'Would you repeat that, please?', 'What do you call this (that) in Mambai?', 'Is there anyone here who speaks English?', '(Portuguese?', 'Indonesian?)', 'Can you translate this for me?', 'Will you please interpret?', 'Please point to the word (The phrase) in this book.', \"Just a minute, I'll look for the word in the book.\", '<p>', 'and departure', 'Where have you arrived from?', 'I have arrived from Darwin.', \"I've come to East Timor via Bali (Jakarta).\", 'I am an Australian (New Zealand, American) citizen.', 'How long are you planning to stay in East Timor?', 'I am staying here for eight days.', '| will be staying in Dili only.', 'We intend to travel into the country, as far as Suai.', 'I am just passing through.', 'Show me your passport.', \"Where is your wife's passport?\", \"My child doesn't have a passport.\", \"He's travelling on my passport.\", 'My ticket is valid for three months.', 'I have come to East Timor on business.', 'I have come to East Timor as a tourist.', 'I have come to East Timor to', 'Are you a journalist?', 'No, I am not a journalist.', 'Yes, I am a journalist.', 'Why am I being delayed?', 'I have friends waiting for me outside.', 'Please call Mr. X. on this number.', 'I am looking for Mr X. but he is not here.', 'I have lost my friend.', 'Can you please page him/her?', 'The flight has been delayed.', 'What is the new departure time.', 'When is the next flight to Kupang?', 'From where does the flight to Bali leave?', 'Has the plane left yet?', '<p>', 'Do you have anything to declare?', 'Nothing at all.', 'I have some packets of cigarettes.', 'I have two bottles of spirits.', 'I have a small bottle of perfume.', 'Must I pay customs duty on this?', 'How much must I pay?', 'Please open this bag.', \"What's in this bag?\", 'Does this belong to you?', 'It is for my personal use.', 'Where did you get these things?', 'I bought them in Bali.', 'These things are gifts for friends.', 'This is a letter for Mr. X from his relative (friend) in Australia', 'Do you have any other luggage?', 'No, this is all I have brought.', '<p>', 'Where is my luggage?', 'My luggage has not arrived.', 'One piece of my luggage is missing.', 'How many pieces of luggage did you have?', 'I had two pieces: a big suitcase and a small bag.', 'Please find me a porter.', 'This is mine.', 'Those are also mine.', 'The bag is over there.', 'This suitcase is very heavy.', 'Be careful with this bag.', 'Take my luggage to the taxi (that car over there).', 'Please carry my luggage outside for me.', 'This way, please.', 'Please follow me.', \"It's over there.\", \"I don't know where to go.\", '<p>', 'Please call a taxi to take me to my hotel.', 'I want to go to the X.', 'Hotel.', 'Please drive me to this address (to this place).', \"Please drive me to a bank (to the police station, university Diocesan Office, Bishop's house).\", 'Please wait: there is another passenger going with us.', 'Will you please go and get that luggage?', 'How much is the fare (for all of us)?', 'Do you have a meter in your taxi?', 'We must agree now on the price.', 'That is too much: I will pay you ... rupiah.', 'I am in a hurry.', 'Please hurry: I am (very) late.', 'Please hurry: I am (he is) feeling sick.', \"There's no need to hurry.\", 'Please take us on a short tour of Dili on the way to the hotel.', 'Can you tell us what that place is?', 'You are a good driver.', 'Will you come to the hotel tomorrow to take us somewhere?', 'What time will I come?', \"Please come at nine o'clock in the morning.\", 'How many people are going with you to Ermera?', 'Only me.', 'Three other people: two men and a woman.', '<p>', 'My name is....', 'Do you have a reservation?', \"I have (don't have) a reservation.\", 'I booked a room for three days (one week) from Australia.', 'Did you receive my booking?', 'Here is the confirmation.', '<p>', 'he Tourist Office sent us here.', 'Here is my passport.', 'I have a three months visa.', 'This is my first visit to East Timor.', 'This is my second (third) visit to East Timor.', 'Please give my passport back to me.', 'Please fill out this form.', 'What is the date today, please?', 'Sign here, please.', \"I can't read Indonesian.\", 'What does this say, please?', 'What is the name of this hotel?', 'What is the address of this hotel?', 'What is the phone number of this hotel?', 'I would like to stay four nights here.', 'When will you be leaving?', 'I will leave (perhaps) on Saturday.', \"I don't know yet.\", 'We are expecting another person tomorrow (on Friday).', \"I don't want to stay here.\", 'Thank you anyway.', 'Sorry, the hotel is full.', 'Is there another hotel in the town?', 'Can you recommend (find me) a good hotel?', 'Are there any boarding houses near here?', 'Could you arrange for me to stay with a family?', 'You must report to the police.', 'We have to take your passport', 'to the police station.', 'When will I get my passport back?', 'Is it possible to pay with my credit card (Visa card)?', \"I don't have any cash.\", 'I must go to the bank.', 'I need to change some Australian (New Zealand) money.', 'Can I pay you in Australian bills?', 'Please give me a receipt.', 'Please send someone to take my bags.', 'Please wake me at 6am tomorrow.', 'Can you ring?', 'Please call me a taxi.', 'I must go to Aileu this morning.', 'Is it possible to hire a car?', 'Here is my international licence.', 'Did anyone come to see me while I was out?', 'Was there a phone-call for me while I was out?', '<p>', 'What kind of room do you want, Sir?', '(Madam?, Miss?)', 'I want a single room with bath and toilet.', 'Is there a room with a shower?', 'We want a double room.', 'We want a room with two single beds.', 'We want a room with a double bed.', 'What is the number of my room?', 'What floor is my room on?', 'I would like a room upstairs.', \"I don't want a room on the ground floor.\", 'We want a room with air- conditioning (a fan).', 'Please find me a quiet room.', 'Can you put another bed in the room?', 'Is there hot running water in the room?', 'Is there is a kettle in the room so that we can boil water?', 'Is there a power point in the room?', 'Will this kind of electric plug fit the socket?', \"Unfortunately we don't have a room like that.\", 'What is the price of the room I want?', 'Good, I will take this room.', 'Does the room have a television set?', 'How many channels can we pick up here?', 'Can I pick up the Portuguese satellite channel also?', 'May I borrow a video-recorder (to play videos?', 'Do you have a cheaper room?', 'A boy will take you to your room.', 'Don t worry about your luggage: we will have it brought to your room.', '<p>', 'Is there a restaurant in the hotel?', 'Does this price include all meals?', 'No, it includes breakfast only.', 'Where in breakfast served?', 'Breakfast is served in that dining room through there.', 'What time is breakfast served?', \"Breakfast is served from seven o'clock till half past nine.\", 'Can I have breakfast brought to my room?', 'Yes, but you must fill out this form.', 'Please send some tea (coffee) to my room.', 'Please send a snack to room number....', '<p>', 'Does the hotel wash clothes?', 'Where do I leave my clothes to be washed?', 'When will my washing be brought back to me?', 'Do you have some insect repellent?', 'Do you have a mosquito net?', 'Do you have an (electric) mosquito coil?', 'I would like to make a call to Australia (New Zealand).', 'I d like to see the telephone directory.', 'Would you please find me this number?', 'Will you please dial this number for me?', 'Can I send a fax from this hotel?', 'Would you please translate this for me.', \"I don't understand.\", \"Will you please tell me what they are saying: I don't understand Portuguese.\", 'Will you please tell the operator that...?', 'Please tell him/her that....', 'Please bring me some writing, paper and envelopes.', '<p>', 'I wish to see the manager of the hotel.', 'I was told in Australia that meals would be included.', 'I asked for a room with a bath and toilet.', 'This room has no bathroom.', 'The fan (air-conditioner) is not working.', 'There is no water in the tap.', \"The toilet doesn't flush.\", 'Please have it repaired immediately.', 'There is no toilet paper in the room.', 'The bed linen has not yet been changed.', 'The lock on my door is broken.', 'The light does not work in my room.', 'Please change the globe.', \"I don't know how to work the radio (the television).\", \"I don't like my room.\", 'Please find me another one..', \"It doesn't matter if it's more expensive.\", 'How much will the other room cost?', 'There are some people making a lot of noise.', \"I can't sleep.\", 'There is a person there bothering me.', 'There is a mistake in this bill.', 'I did not take anything from the fridge.', 'I did not ask for this thing.', 'I have lost the key to my room.', '<p>', 'Do I leave my key here, or can I take it with me?', 'Please give me the key to room 24.', 'I would like to leave something in your safe.', 'Please bring me my watch (my jewelry, my documents) from the safe.', 'Please prepare my bill.', 'I am leaving tomorrow morning.', 'What time must we leave the room in the morning?', 'Please add this to my bill.', 'The service was very good here.', 'I will be happy to recommend this hotel to my friends.', '<p>', 'Where is the nearest bank?', 'Can you show me the way to a bank?', 'What time does the bank open and close?', 'Which days is the bank open?', 'Is there a money exchange here?', 'Where can I change this money?', 'Can I change money at this hotel?', 'What is the current exchange rate for Australian dollars?', \"The present exchange rate isn't very good.\", \"I would like to change these traveller's cheques into rupiah.\", 'I want to deposit money into the account of...', 'Please prepare me a bank cheque for the amount ...', 'Please make out the cheque in American dollars.', '<p>', 'Is it possible to rent a car in Ainaro?', 'How many people can fit in that car?', 'Is there a bigger vehicle available to seat eight or more people?', 'How much is the car rental per day?', 'Is insurance included?', 'Do you have an automatic car or only a manual?', 'Please fill the tank with petrol.', 'Do I pay for the petrol, or is included in the price?', 'Please check the oil and water.', 'In which towns can we get petrol?', 'Is there a mileage charge also?', \"Please show me your international driver's licence.\", 'Can I pay with my credit card?', 'You must pay a deposit.', 'Please send me a driver speaks English (Portuguese, Tetum, Mambai, Indonesian).', 'We would like a friendly driver who likes to chat.', 'In Timor we drive on the left.', 'There are traffic lights in Ainaro.', '<p>', 'Do you serve lunch (dinner)?', 'Where can we park our car?', 'What time do you open and close?', 'We want a table for three.', \"I'd like to book a table for tomorrow evening.\", 'We will sit together.', 'May we sit near the window?', 'Do you have a table with a nice view?', 'We prefer to sit outside.', 'please bring another chair.', 'We want something light only.', 'We only want coffee (tea, beer).', 'Excuse me: can you...?', 'We are in a hurry.', 'It is very hot.', 'Can you put on the fan (air-conditioning)?', 'Please turn down (turn off, change) the music.', 'Can you play some Timorese music?', 'Can you serve us at once?', 'We will come back in one hour.', 'Please bring the menu.', 'Is this dish good?', 'Is this dish hot (sweet)?', 'Please bring us a salad.', 'Please bring salt and pepper (oil).', 'Do you have Portuguese wines?', 'What beer do you serve?', 'Do you have...?', 'Enjoy your meal!', 'Bon appétit!', 'This fish is good.', 'What is it called?', 'Do you make fish stew?', 'I am on a diet.', \"I can't eat.\", 'Please bring bread (water, mineral water).', 'I do not want ice in my drink.', 'Has this water been boiled?', \"I don't want water from the tap; please bring mineral water.\", 'This is not fresh.', 'This food is bad.', 'This has too much fat.', 'Do you have milk for the tea (coffee)?', \"Don't put sugar in my tea (coffee).\", \"I'd like my tea (coffee) boiling hot, not lukewarm.\", 'Please bring something sweet to eat with the coffee.', 'What dessert do you have today?', 'Please bring me some cigarettes.', 'Can I wash my hands?', 'Where is the toilet?', 'There is no toilet paper.', '(Come/go) this way.', \"I can't find it.\", 'Please show me the way.', 'Please bring the bill.', 'There is a mistake in the bill.', 'You did not bring us this.', 'Sorry, I made a mistake.', 'Do you have change?', 'The meal was very good.', 'May I have some toothpicks?', 'This is a tip for you.', 'Please hurry: we have little time.', 'The service here is very good.', '<p>', 'Today we want to go to Same.', 'How much do you charge for the trip to Ermera?', 'How much will you charge take us there and back?', 'We want to return to Ainaro on the same day.', 'How many hours is it from here to there?', 'Is the road good?', '\\\\Ne would like to stop somewhere for lunch (for coffee).', 'We would like to visit the church in Aileu.', 'I would like to pay my respects to the parish priest.', 'Please turn right.', 'Please turn left.', 'Go straight ahead.', \"Don't drive so fast.\", 'Slow down.', 'Please fasten your seat belt.', 'Please turn the radio off.', \"I don't want to listen to music.\", 'Please turn the radio down: it is very loud.', 'The road is closed.', 'There is an army road block: we cannot continue our journey.', 'We must turn back.', 'The road is cut by flood waters.', 'This bridge is too dangerous to cross.', 'There was a collision (of two cars) at that bend in the road.', 'I must stop to buy more petrol.', 'I must put oil (water) in the car.', 'We have a flat tyre.', 'I must change the wheel.', 'Please get out of the car.', 'Please wait here for me: I will come back soon', '’lease stop somewhere: I am feeling sick.', 'Please stop: I must go to the toilet.', \"If you are feeling sick, look ahead: don't look back (don't look down).\", 'The car has broken down.', 'I must have it repaired.', 'We will have to spend the night in this village.', 'We are hungry (thirsty) now.', 'Can we stop soon to buy something?', 'I would be happy for you to eat (drink) with me.', \"Don't be shy.\", 'We brought some food and drink.', 'Would you like some?', 'What is this place called?', 'Is there a priest living here?', 'Are there nuns in this town?', 'Is there a doctor here?', 'Is there a nurse or a clinic?', 'Please wait while we visit person.', \"Please come back for us at three o'clock.\", 'You are a very good driver.', 'Here is a tip.', 'Please accept this gift.', 'Do you have a card with name, address and phone number?', 'I will be happy to recommend you to other people.', '<p>', 'Hello.', 'What is your name?', 'I am a visitor from New Zealand.', 'I am a doctor (nurse, teacher, priest, nun) from Australia.', 'My name is....', 'My name is Father..., Sister...', 'I am very happy to meet you.', 'I am (we are) from USA (Philippines, England, Ireland).', 'I live in Sydney (London).', 'I know many Timorese people in Melbourne.', 'I have a good Timorese friend in Darwin.', 'Are you married?', 'Is this lady your wife?', 'How many children do you have?', 'I have five children: two boys and three girls.', 'This is my son (my daughter).', 'What is his name?', 'What are their names?', 'His (her) name is ...', 'How old is he?', 'He is ten years old.', 'My father is dead.', 'What is your profession?', 'I am a teacher.', 'Do you like your job?', 'Do you come from Ermera?', 'Where were you born?', 'How many brothers and sisters', '(to an adult or an adolescent)', '<p>', '(to a child)', 'have you?', 'Are they all alive?', 'When did he die?', 'I am sorry to hear that.', \"May I visit your father's grave?\", 'zu- I', '| would like to pray for his soul.', 'I will pray for him (you) when', 'I go to Mass.', 'We would like to place some flowers on his/her grave.', 'Here is a photo of my family.', 'You have a beautiful family.', 'Your children are well brought-up.', 'I am very honoured to visit your home.', 'Please accept this small gift.', 'You have all been very kind to me.', 'I will remember your kindness to me.', 'May God reward you for your kindness to us.', 'I will remember you (and your family) in my prayers.', 'May God bless you and your family.', 'I will not forget my visit here.', \"Don't forget me: we must keep in touch.\", 'Here is my address in Australia.', 'This is my phone number (my fax number, my email address).', 'If you write your name and address for me, I will send you a postcard from my country.', 'If you come to Australia, you can stay with us.', 'You can write to me in Tetum:', 'I have a friend who can translate.', '<p>', 'N.B.', 'In the following phrases the pronounis given for addressing a child up until about he age of fifteen.', \"However, remember that you will get on better with young people and children if, insteadyou use the child's name if you know it.\", 'Hello, children!', 'What is your name?', 'How old are you?', 'How many brothers do you have?', 'How many sisters have you?', 'This is my older brother.', 'That is my younger brother.', 'These are my two older sisters.', 'My younger sister is at home.', 'I have a son (a daughter, a brother, a sister) about your age.', 'Where do you live?', 'Do you go to school?', 'Do you like school?', 'What do you like doing best at school?', 'Are you learning English at school?', 'Do you know how to read?', 'Do you like reading?', 'What do you want to do when you grow up?', '(to a small child)', '(to an adolescent)', '<p>', 'Do you want to study at university when you finish school?', 'Would you like a sweet?', 'Would you like a chocolate?', 'Would you like a holy picture?', 'Would you like a postcard?', 'This is the place where I live in Australia (USA, Canada).', 'This is an Australian animal (bird).', 'Do you have animals like this in Timor?', 'You are a good boy.', 'You are a good girl.', 'I will ask God to bless you and help you throughout your life.', 'You must be good and help your parents.', 'Your father is very worried: you must be patient.', 'Your mother is very sad: you must help her.', 'Your parents are very lucky because you are such a good boy (girl).', \"Don't do that.\", 'That is bad behaviour.', 'Tell them to stop doing that.', 'Stop shouting!', 'One at a time, please!', 'Tell your father (your mother) thank you very much.', 'Please give this to your father (your mother).', '<p>', 'What language do the people speak in this village?', 'Can you understand the language of Turiscai?', 'Their dialect is similar to ours.', 'We can understand only a little.', 'We communicate with those people in Tetum.', 'I would like to learn your language.', 'Can you find me a person who speaks that language?', \"How do you say 'water' in your language?\", 'Would you write that word down for me?', 'I want to make a list of words in your language.', 'I will say the Tetum word: please tell me the Mambai word.', 'East Timor has a rich culture because it has many languages.', \"You should not be ashamed of your language: it's a gift from your ancestors.\", 'You should value your language and pass it on to your children.', 'I would like to write down that story (song) in your language.', 'Can you make a Tetum translation of the story?', 'Please tell me about this thing (this custom).', 'Can you draw a picture of this thing?', 'Can you show me that plant?', '(that fruit?', 'that vegetable?)', 'Can you show me that animal?', 'Do you know what land your ancestors came from?', 'I would like to see people perform that dance.', 'Can you sing that song for me?', 'Do you mind if I record this song (this story) with my tape-recorder?', 'May I take a photo of this?', 'Is it possible to visit the village totem-house?', 'Can you show me the places (the things) that are sacred to your ancestors?', 'Please tell me if I do something wrong, because I am a foreigner.', 'I want to respect your customs.', '<p>', 'I am feeling sick.', 'Get a doctor, quickly!', 'Can you get me a doctor?', 'Is there a doctor in the hotel (village)?', 'Please telephone for a doctor immediately.', 'Please contact my friends in Dili (my relatives in New Zealand).', 'Here is the phone number.', 'Can you recommend a doctor?', 'Is there a doctor who speaks English?', 'Is there a lady doctor?', \"Where is the doctor's surgery?\", 'What time can the doctor come?', \"Please take me to the doctor's surgery (to the clinic, hospital).\", 'I am too ill to go alone.', 'May I see the doctor now?', 'When can I see him?', 'I am very sick.', \"I'd like to make an appointment to see the doctor.\", \"Three o'clock isn't possible for me.\", \"Can I see you at five o'clock?\", \"Please come back tomorrow at nine o'clock.\", 'Please wait here.', 'The doctor will come soon.', 'I am not feeling well.', 'I am in great pain.', 'Please give me a strong pain-killer quickly.', 'What sickness do you have?', 'I am a diabetic.', 'I am suffering from asthma (migraine, malaria).', 'I have a bad heart (heart condition).', 'I have cancer.', 'I am HIV-positive (I have AIDS).', 'Please sit down.', 'Where does it hurt?', 'I have a pain here.', 'My head aches.', 'My stomache aches.', 'I am aching all over my body.', 'I feel dizzy.', 'I feel nauseous.', 'I have fainted several times.', 'I am shivering.', 'I am sweating a lot.', 'I seem to have a fever.', 'Please look at this.', 'I want to examine you.', 'When did the pain begin?', 'How long have you had this illness?', 'Have you had this pain before?', 'Did you take medicine for this illness before coming to Timor?', 'What medication are you taking for this condition?', 'Do you take this medicine by mouth or by injection?', 'How many pills have you been taking?', 'How often do you get this pain?', 'All the time.', 'Every so often.', 'Only at night-time.', 'Do you feel any pain here?', 'Tell me if it hurts when I touch you.', 'Yes, it hurts.', \"No, it doesn't hurt much.\", \"No, it doesn't hurt at all.\", 'I feel numb (here).', 'Was this an accident or somebody hurt you?', 'Put this thermometer under your tongue for a minute or so.', 'Please take off your shirt.', 'Please undress.', 'Plese undress down to the waist.', 'Open your mouth.', 'Breathe deeply.', 'Cough please.', 'Lift your arm as high as you can.', '’lease remove your trousers and underpants (panties).', '’lease lie on the table.', 'Please roll up your sleeves.', 'must give you an injection.', 'Please straighten your leg.', 'The injection may hurt a little bit.', 'Tell your child to keep very still.', 'Tell him not to be afraid.', 'I am going to feel your pulse.', \"I'm going to examine your chest with the stethoscope.\", 'I must take a specimen of your urine.', \"I'm going to take your blood pressure.\", 'Have you been smoking?', 'You must give up smoking.', 'Do you drink a lot of alcohol?', 'You must stop drinking alcohol.', 'This is infected.', 'This is septic', '(the blood is poisoned).', 'This is not serious.', 'You have fractured your arm.', 'You have sprained your ankle.', 'You have pulled a muscle.', 'No, your leg is not broken.', 'The swelling will go down soon.', \"The fever will stop in a few days' time.\", \"There's nothing wrong with you.\", 'Your condition is not serious.', 'I am in a nervous state.', 'I am feeling very depressed.', \"I can't sleep at nights: I need some sleeping pills.\", '1 am having nightmares', 'Can you prescribe a tranquillizer?', '<p>', 'You must get plenty of rest.', 'He must stay in bed for at least two days.', 'You must drink lots of liquids.', \"Don't worry so much.\", 'Try to be calm.', 'You need to be with other people: Do not stay alone.', 'You should go for a long walk every day.', 'I will prescribe a good medicine.', 'I will give you a sedative.', 'You will feel better soon.', 'You must take these pills three times a day.', 'Take this medicine every four hours.', 'Put two drops into your left eye twice a day.', 'You are taking too many pills.', 'You must take less pills.', \"You must inhale this capsule whenever you can't breathe properly.\", \"Rub this ointment on to your baby's back.\", 'Have you got money to buy this medicine?', 'I will give you the medicine for free.', 'I will wash and bandage your foot.', 'You must change the dressing (bandage) every day.', 'We must put your broken arm in a plaster.', 'His condition is very serious.', 'He must go to hospital at once.', 'We must operate as soon as possible.', 'I must take an X-ray.', 'I want you to see a specialist in Dili.', 'We must do some tests to see what the problem is.', 'It may be expensive.', 'Do you have medical insurance?', \"It's best if we send you to hospital in Darwin.\", 'I want you to go there for a check-up next week.', 'Do you feel well enough to travel?', 'Did you take a malarial prophylaxis (preventative) before coming to Timor?', 'Which prophylaxis did your doctor prescribe?', 'Was it chloroquin?', 'Be careful what you drink.', 'Put one of these water-purifying pills into the water you drink.', 'Drink only bottled water.', 'Boil all water for at least five minutes before you drink.', 'When you drink tea and coffee make sure that the water is fully boiled.', \"Don't have ice in your drinks.\", \"Don't eat any salad that has been washed in tap water.\", '<p>', 'When did these spots first appear?', 'Have you had sexual relations with any person since you came to Timor?', '(in your own country?)', 'You must not have any more sexual relations.', \"Come back in three days' time so I can examine you again.\", \"Don't stay in the sun.\", 'Cover your head whenever you go outside.', 'Can I travel in this condition?', 'Can I continue the journey?', 'Is there a doctor in that place?', \"I'm feeling better now.\", \"I'm feeling worse.\", 'How much do I owe you, Doctor?', \"You don't need to pay now: I'll send a bill.\", 'There is no charge.', 'Thank you for your help, Doctor (Sister).', 'Please fill this prescription for me.', 'When will the medicine be ready?', '<p>', 'I am pregnant.', 'I have strong period pains.', 'My period did not come this month.', 'I think I may be pregnant.', 'You are expecting a baby.', 'When is the baby due (to be born)?', 'I want to have a baby but I cannot conceive.', 'Has anyone given you pills or an injection to make you stop having babies?', 'Were you sick while you were pregnant?', 'Have your contractions begun?', 'Did the baby have an easy or a difficult birth?', 'You must bring the baby to the clinic for a check up every week.', 'Has the baby been baptized yet?', 'Do you want me to call a priest?', '<p>', 'When can the dentist see me?', 'My tooth is aching.', 'I have lost a filling.', 'My mouth is all infected.', 'I think it is my wisdom teeth.', 'Can you please give me an anaesthetic?', 'I will give you an injection.', 'I must pull out this tooth.', \"I don't want my tooth extracted.\", 'This tooth needs a filling.', 'That hurts!', \"It won't hurt much.\", 'I must drill your tooth.', \"Please drink some of this water, but don't swallow.\", 'Roll the water around in your mouth, then spit everything out.', 'The gum is very sore.', 'The gums are bleeding.', 'You must not eat on this side of your mouth for six hours.', \"Don't drink anything very cold or very hot until tomorrow.\", 'If the tooth hurts again, come back to see me.', 'I have broken this denture.', 'Can you repair this denture?', 'When will it be ready?', 'I have broken my glasses (spectacles)?', 'Can you repair them for me?', 'Can you change the lens?', 'Can you prescribe new sunglasses for me?', '<p>', 'What time do the shops here open and close?', 'Do the shops close for lunch?', 'Can I pay for things in Australian (US) dollars?', 'Can I pay with my credit card in this shop?', 'Where is the nearest shop?', 'I must buy...', 'May I help you, Sir/Madam?', 'Yes, please.', 'I am looking for...', 'I am just looking around.', 'Can you help me?', \"I'd like a...\", 'Can you show me some....?', 'What does this mean?', 'Can you show me one of those?', 'I want something smaller (larger).', 'I want something cheaper.', 'This costs too much.', 'Can you lower the price?', 'Can you give me a discount?', 'I am looking for a gift.', 'What do you recommend to take back to my country?', 'This is hand-made.', 'This is factory-made.', \"I can't buy this because of customs restrictions when I go home to New Zealand.\", 'Do you have a cassette (CD) of a singer called....', 'May I listen to this music?', 'Do you have other cassettes of the same singer?', \"I'd like to buy some cassettes of Timorese music.\", 'Do you sell videos also?', 'Do you have any books in Mambai?', 'Do you sell English books or newspapers?', 'I would like a good road map.', 'Do you sell books about East Timor with nice pictures?', 'Are these things made in Timor?', 'Do you have anything made', 'from sandalwood?', 'Can you show me other kinds of cloth?', 'May I see your catalogue?', 'Do you know where I can buy that thing?', 'Do you sell Timorese handicrafts?', '(shawls?', 'decorative cloth?)', 'Do you sell toys (dolls) for children?', \"No, I don't like it.\", \"It's not exactly what I want.\", 'I must think about it.', 'I might come back another time.', 'This is just what I want.', 'I will take it.', 'I will take five of these.', 'Can you wrap these please?', 'Can you wrap this book as a gift?', 'Please take off the price-tag.', 'We are out of stock, but we can order the product for you.', 'How long will it take to arrive?', 'About one week.', 'Would you like to place a deposit?', \"I'd like to have it as soon as possible.\", 'I must have it by Tuesday because I am leaving Ainaro.', 'Can you send it to my address in Australia?', 'Please wrap the parcel carefully.', 'Can you put them into a box?', 'Can you give me a plastic bag to put these things in?', 'Please help me carry packages to the car.', 'Can you send it straight to my hotel (to this address)?', 'Can I pay with a personal cheque?', 'We are sorry, we accept only cash here.', 'May I have a receipt, please?', 'Do you want anything else?', 'Nothing, thank you.', 'I want to return this camera.', \"It's faulty.\", 'Can you change this for a better one, please?', \"I'd like a refund.\", 'Here is the receipt.', 'We are very sorry, Sir!', \"It doesn't matter.\", '<p>', 'Do you have the same thing in a different colour?', 'What colour would you like?', 'Do you have a red (green, blue, yellow, pink, black, white, multicoloured) one?', 'Do you have a darker (lighter) shade of blue?', 'Do you have a cloth with (without) patterns?', 'I want something to match skirt.', 'Do you have the same thing in nylon (cotton)?', 'Is this material hot or cool?', \"I'd like a thicker (a thinner) material.\", 'What is this shirt made of?', 'Is this shirt made here in Timor?', 'No, it comes from Bali.', \"I'd like a shirt to fit a child (a big man, a thin woman).\", 'Can you measure me, please?', 'I need a bigger (smaller) size?', 'Do you have a tailor/ dressmaker here who makes clothes to measure?', 'How much would a suit (a dress) cost?', 'How long does it take to make a shirt?', 'I will choose the material myself.', 'These trousers need to be.', 'brought in (taken out) here.', 'Where is the fitting room?', 'This fits very well (not so well, badly).', 'I must try another size.', 'The trousers are too', 'I o n g/s h o rt/t i gh t/l oose.', 'This colour does not suit me.', 'This size feels very comfortable.', 'How does it look?', 'Yes, it looks very smart on you.', 'My shoe-size is....', 'These shoes are too tight.', 'Do you have strong leather shoes?', 'Do you have comfortable shoes for walking?', '<p>', 'How much do these mangoes cost?', 'How much for one?', '(for three?)', \"I'll take seven of them, give me good ones.\", 'Please put them in a plastic bag (in this bag).', 'On what days do you sell your wares in the market?', 'We hold the market on Sundays only (every Thursday).', 'Is this fruit fresh?', 'The price is too high: I will look somewhere else.', 'All right, I will buy a dozen eggs.', 'Is there a place where I can try on this dress?', 'You made a mistake with the change.', 'Please give me ten more bananas.', \"Don't insist: I do not want to buy this.\", '<p>', 'Good morning.', \"I'd like to send this letter to New Zealand.\", 'By airmail or seamail?', 'Please give me six stamps for letters going to Darwin.', 'Please give me some airmail stickers.', 'Do all letters go by airmail?', 'I want to send this letter express', 'I want to send this package to Australia.', 'To where in Australia?', 'It is going to Adelaide.', 'How long will it take to arrive?', 'Can I insure it?', 'How much does the insurance cost?', 'Please make me out a money order for R....', 'Can you change this money order?', 'Is there any mail for me, please?', 'My name is..', \"Please write 'handle with care' in Portuguese on the package.\", 'You need to fill out this form.', 'What does the packet contain?', 'It has books and clothes only.', 'May I have a receipt?', 'Can I send a fax from this post-office?', 'Can I make an overseas phone- call from here?', '<p>', 'Every adult citizen of East Timor has the right to vote.', 'To vote, you must fill in a voter registration card.', 'Your vote is important, so think carefully about what you choose.', \"It is against the law for anyone to force you to vote for something you don't want.\", 'You are free to vote according to your own will.', 'The ballot is secret.', 'Nobody will know how you voted.', 'If anyone tries to force you to vote against your will, you must report this to an electoral officer.', 'If you wish to vote for\\t,', 'put a cross in this box.', 'You must take this card with you when you go to vote.', 'When you have filled the form, put it in the ballot-box.', 'Before and after you vote, it is best not to tell other people your choice.', '<p>', \"Don't be afraid.\", 'We are here to help you.', 'I cannot understand you very well because I am a foreigner.', 'Try to speaks slowly so that I can understand you.', 'Please tell everything to the interpreter.', \"Don't cry.\", 'Try to be calm.', 'If you are calm, you will think better.', 'If you are calm, we can help you better.', 'Please sit here.', 'Would you like something', 'warm to drink first?', 'If somebody hurt you, you must tell us.', \"It doesn't matter who that person was.\", 'Everything you tell us will be in strict confidence.', 'You must tell us everything.', 'They will not find out what you told us.', 'What is the matter?', 'What happened to you?', 'Who did this to you?', 'Do you know the name of the person who attacked you?', 'Where does he come from?', 'Where does he live?', 'Can you identify the people who hurt you?', 'Are they East Timorese or foreigners?', 'Do they belong to a para- military group?', 'Which group?', 'Who is their local leader?', 'Did they beat you?', 'Did they threaten you with words?', 'What did he say?', 'Why did they attack you?', 'What did they want from you?', 'How long have you known that person?', 'Did you report it to the police?', '(army officers, Red Cross, the priests?)', 'Whom did you report the crime to?', 'What did that person tell you?', 'Is this true?', 'Those people told lies about me.', 'Who saw them attack you?', 'Did they force you to go with you?', 'Were they polite to you, or did they try to frighten you?', 'What did they accuse you of?', 'Did they threaten you?', 'Did they touch you?', 'Did they beat you?', 'Did they give you food and drink?', 'Were you allowed to see your family (the priest, lawyer)?', 'Was your family notified that you were detained?', 'Did they tell you why you were detained?', 'How long did they keep you in that place?', 'Did they sexually assault you?', 'Does the local police-officer (military commander) know about these matters?', 'When did your son disappear?', 'Did you report his disappearance to the police?', 'Has anyone seen him since?', 'Where have you looked for your son?', 'Do you think there is a reason why he disappeared?', 'Had he been in trouble before?', 'Is your husband in prison?', 'Do you know which prison?', 'Have you been able to visit him?', 'Is he in good health?', 'What did he tell you when you visited him?', \"When will your husband's trial be held?\", 'What are the charges against him?', 'Does he have a lawyer to help him?', 'Whom have you told about his imprisonment?', 'Can you show me a photo of your daughter?', 'What is her name?', 'Can you describe her to me?', 'Is she tall or short?', 'How tall is she?', 'What kind of hair does she have?', 'Is she stout or thin?', 'Who was the last person to see her?', 'Please write down everything you know about this case.', 'We will report this to the Red Cross.', 'We will inform you as soon as we learn something.', 'We are very sorry about what happened.', 'We will do everything possible to help you.', 'I have a family just like you.', 'I understand how you feel.', 'Are you afraid to stay at home now?', 'Do you want me to find you somewhere safe to stay?', \"Come with us: you can't stay here any longer.\", '<p>', 'There has been an accident.', 'Two cars crashed.', 'The car crashed into a tree.', 'The car ran off the road.', 'A pedestrian has been run over by a car.', 'Is anyone hurt?', \"Don't move!\", \"It's all right.\", \"Don't worry.\", 'Help is on the way.', \"There's someone hurt in this car.\", 'Please go and get help.', 'Please go and telephone for help.', 'Please get a doctor, quickly!', 'There are people badly injured here.', 'Help me get them out of the car.', 'Help me turn the car over.', 'Everyone: lift now!', 'Please call the police immediately.', 'Ask them to send an ambulance.', 'Get something to bandage this wound.', 'He is losing a lot of blood.', \"Thank God you've arrived!\", 'This person must go straight to hospital.', \"It's urgent.\", 'Please inform his family.', 'He needs a blood transfusion.', 'Would you please come and act as a witness?', '<p>', 'Nurse, please get the doctor.', 'I am in pain.', 'May I please have something to eat (to drink)?', 'I need to go to the toilet.', 'Please bring me a pot (to go to the toilet).', 'Please change the sheets.', 'They are dirty.', 'Please change my pillow.', 'There is blood on it.', 'I am bleeding.', \"I can't rest because there is too much noise.\", 'I am very hot.', 'I am sweating all the time.', 'Is it possible to put me in a quieter room?', 'This bed is very uncomfortable.', 'Can I make a phone-call.', 'Please bring me paper and a pen so I can write a letter.', 'How long must I stay in hospital, doctor?', 'You must stay here for one more week.', 'Am I getting better?', 'Your condition is gradually improving.', 'We must give you another injection.', 'Please turn over so that I can give you the injection.', 'We will transfer you to another ward tomorrow.', 'I want to visit Mr. X. who is in this hospital.', 'In what room is he?', 'Which way, please?', 'Can I visit him now?', \"No, I'm sorry.\", 'You must come back during visiting hours.', 'When can I visit him?', \"Between two and five o'clock.\", 'This lady (gentlemen) wishes to visit his relative.', 'Which doctor is looking after my friend?', 'May I speak to the doctor?', '<p>', 'Are there any soldiers around here?', 'How many of them are there?', 'What nationality are they?', 'What colour is their uniform?', 'How many artillery pieces are there?', 'How many machine-guns are there?', 'How many tanks are there?', 'How many planes are there?', 'Can you describe the aircraft markings?', 'Were they like this?', 'Can you draw a sketch for me?', 'Are there any...', '... airfields', '... arms and ammunition dumps', '... message centres', '... mine fields', '... pillboxes', '... radio stations', 'By courtesy of the Australian Defence Force School of Languages', '... supply depots', '... telephone lines?', 'Do the troops have ...', '... antitank guns', '... artillery', '... jeeps', '... motorcycles', '... aeroplanes', '... supplies', '... tanks', '... trucks?', 'Have the troops been ...', '... advancing?', '... retreating?', '... digging trenches?', '... laying mines?', '... preparing an airfield?', '... storing supplies?', '... repairing equipment?', '... building tank traps?', '... building dugouts?', 'Which way did the soldiers go?', 'Have they planted any mines?', 'Show us where they are.', 'Wait here.', 'Stand up.', 'Come forward.', 'Move back.', 'Turn around.', 'Go ahead.', 'Advance.', 'Follow me.', 'Come with me.', 'Go slow.', 'Hurry.', 'Stop.', 'Halt.', 'Who goes there?', \"Don't shoot.\", 'Put down your machete.', 'Put down your gun(s).', 'Raise your hands.', \"Don't move.\", \"Don't be afraid.\", 'Are you familiar with this area?', 'What kind of terrain is it?', '<p>', '|$ it hilly  mountainous / flat?', 'Are you familiar with this road?', 'Do you know the road to Suai?', '<p>', \"What is the road's condition?\", '... good  bad / sealed?', 'The road is covered with sand.', 'It will be cleared this week.', 'This section is a gravel road.', 'This section is unsealed.', 'The condition of this road is not known.', 'This road connects Maubisse with Turiscai.', 'How far is it from Ainaro to the border?', \"It's approximately 15 km.\", 'The road divides approximately 20 km.', 'south of Dili.', 'The road runs from north to south.', 'This road runs from east to west.', 'This road continues as far as the border.', \"You'd better take an extra spare wheel with you.\", 'Have you got a good tool-kit?', 'Do you carry a drinking-water supply?', \"What's the weather forecast?\", 'The forecast is good / bad.', 'They forecast...', '... rain / a storm / lightning', '/ high winds', 'Are there any mines on the road?', 'Are there any mines in the building?', 'What sort of mines are they?', 'Are the minefields marked?', 'Where is the shooting?', 'Who is shooting whom?', 'Is it safe to go there?', 'Where are the trouble-spots?', \"There's a lot of trouble in this area.\", 'What are the causes of the unrest?', \"We don't know.\", '<p>', 'Attention!', 'Stand at ease!', 'Eyes front!', 'Eyes right/left!', 'Right/left turn!', 'Right/left incline!', 'Right/left wheel!', 'About turn!', 'Fall in!', 'Quick march!', 'Slow march!', 'Halt!', 'Dismiss!', '<p>', 'Load!', 'Unload!', 'Empty magazine!', 'Action!', 'Instant!', 'Watch and shoot!', 'Fire!', 'Reholster!', 'Inspect weapons!', 'Strip weapons!', 'Assemble the weapon!', 'Pick up weapons!']\n",
      "Total of 1279 tokenized Mambai sentences and 1273 tokenized English sentences.\n"
     ]
    },
    {
     "name": "stderr",
     "output_type": "stream",
     "text": [
      "[nltk_data] Downloading package punkt to\n",
      "[nltk_data]     /Users/raphaelmerx/nltk_data...\n",
      "[nltk_data]   Package punkt is already up-to-date!\n"
     ]
    }
   ],
   "source": [
    "# nltk: tokenize\n",
    "\n",
    "import nltk\n",
    "\n",
    "nltk.download(\"punkt\")\n",
    "from nltk.tokenize import word_tokenize\n",
    "\n",
    "\n",
    "def tokenize_sentences(sentences):\n",
    "    tokenized_sentences = []\n",
    "    for sentence in sentences:\n",
    "        if \"<p>\" in sentence:\n",
    "            tokenized_sentences.append([\"<p>\"])\n",
    "        else:\n",
    "            tokenized_sentences.append(word_tokenize(sentence))\n",
    "    return tokenized_sentences\n",
    "\n",
    "\n",
    "mambai_tokenized = tokenize_sentences(mambai_sentences)\n",
    "english_tokenized = tokenize_sentences(english_sentences)\n",
    "print(english_sentences)\n",
    "\n",
    "print(\n",
    "    f\"Total of {len(mambai_tokenized)} tokenized Mambai sentences and {len(english_tokenized)} tokenized English sentences.\"\n",
    ")\n",
    "\n",
    "# write to eng.sent and mgm.sent\n",
    "with open(\"eng.sent\", \"w\") as f:\n",
    "    for sentence in english_tokenized:\n",
    "        f.write(\" \".join(sentence) + \"\\n\")\n",
    "\n",
    "with open(\"mgm.sent\", \"w\") as f:\n",
    "    for sentence in mambai_tokenized:\n",
    "        f.write(\" \".join(sentence) + \"\\n\")"
   ]
  },
  {
   "cell_type": "markdown",
   "metadata": {},
   "source": [
    "### 3. hunalign: find parallel sentences\n",
    "\n",
    "Relies on the `mgm-eng.stem.dic` produced by the extract_mambai_dict.ipynb notebook\n"
   ]
  },
  {
   "cell_type": "code",
   "execution_count": 49,
   "metadata": {},
   "outputs": [
    {
     "name": "stdout",
     "output_type": "stream",
     "text": [
      "Reading dictionary...\n",
      "1280 source language sentences read.\n",
      "1274 target language sentences read.\n",
      "quasiglobal_stopwordRemoval is set to 0\n",
      "Simplified dictionary ready.\n",
      "Rough translation ready.\n",
      "0 \n",
      "100 200 300 400 500 600 700 800 900 1000 1100 1200 \n",
      "Rough translation-based similarity matrix ready.\n",
      "Matrix built.\n",
      "Trail found.\n",
      "Align ready.\n",
      "Global quality of unfiltered align 0.989281\n",
      "quasiglobal_spaceOutBySentenceLength is set to 1\n",
      "Trail spaced out by sentence length.\n",
      "Global quality of unfiltered align after realign 0.989281\n",
      "Quality 0.989281\n"
     ]
    }
   ],
   "source": [
    "HUNALIGN_BIN = \"../hunalign/src/hunalign/hunalign\"\n",
    "\n",
    "!{HUNALIGN_BIN} mgm-eng.stem.dic mgm.sent eng.sent > mgm-eng.aligned"
   ]
  },
  {
   "cell_type": "code",
   "execution_count": 58,
   "metadata": {},
   "outputs": [],
   "source": [
    "!python ladder2text.py  mgm-eng.aligned mgm.sent eng.sent > aligned_text"
   ]
  },
  {
   "cell_type": "code",
   "execution_count": 1,
   "metadata": {},
   "outputs": [
    {
     "name": "stdout",
     "output_type": "stream",
     "text": [
      "Total of 1275 lines in aligned_text.\n",
      "Total of 1187 parallel sentences found.\n"
     ]
    },
    {
     "data": {
      "text/plain": [
       "[('Deskulpa, Senór!', 'We are very sorry, Sir!'),\n",
       " ('It gosta kuartu mensapa ni, Senór (Senora)?',\n",
       "  'What kind of room do you want, Sir?'),\n",
       " ('Karreta klao tel.', 'The car has broken down.'),\n",
       " ('Au gala ....', 'My name is ..'),\n",
       " ('Prepara meza kid la am têl.', 'We want a table for three.'),\n",
       " ('Balikan dlai.', \"Don't move!\"),\n",
       " ('Rom foer tel sôp.', 'They are dirty.'),\n",
       " ('Au hakarak aprende gase It tero.', 'I would like to learn your language.'),\n",
       " ('Au hakarak lao Otél X.', 'I want to go to the X.'),\n",
       " ('Lelbán pil ma rai?', 'How long will it take to arrive?')]"
      ]
     },
     "execution_count": 1,
     "metadata": {},
     "output_type": "execute_result"
    }
   ],
   "source": [
    "import nltk\n",
    "import random\n",
    "from nltk.tokenize.treebank import TreebankWordDetokenizer\n",
    "\n",
    "THRESHOLD = 0.2\n",
    "\n",
    "# how many lines in aligned_text?\n",
    "with open(\"aligned_text\", \"r\") as f:\n",
    "    print(f\"Total of {len(f.readlines())} lines in aligned_text.\")\n",
    "\n",
    "\n",
    "# read aligned_text, tab-separated\n",
    "def get_parallel_sentences(aligned_text):\n",
    "    parallel_sentences = []\n",
    "    with open(aligned_text, \"r\") as f:\n",
    "        for line in f.readlines():\n",
    "            score, mgm, eng = line.split(\"\\t\")\n",
    "            if float(score) > THRESHOLD:\n",
    "                mgm = mgm.replace(\" ~~~ \", \" \").strip()\n",
    "                eng = eng.replace(\" ~~~ \", \" \").strip()\n",
    "                parallel_sentences.append((mgm, eng))\n",
    "    return parallel_sentences\n",
    "\n",
    "\n",
    "parallel_sentences = get_parallel_sentences(\"aligned_text\")\n",
    "\n",
    "print(f\"Total of {len(parallel_sentences)} parallel sentences found.\")\n",
    "\n",
    "detokenizer = TreebankWordDetokenizer()\n",
    "for i, (mgm, eng) in enumerate(parallel_sentences):\n",
    "    parallel_sentences[i] = (\n",
    "        detokenizer.detokenize(mgm.split()),\n",
    "        detokenizer.detokenize(eng.split()),\n",
    "    )\n",
    "\n",
    "random.sample(parallel_sentences, 10)"
   ]
  },
  {
   "cell_type": "markdown",
   "metadata": {},
   "source": [
    "### Save parallel corpus\n"
   ]
  },
  {
   "cell_type": "code",
   "execution_count": 59,
   "metadata": {},
   "outputs": [],
   "source": [
    "import csv\n",
    "\n",
    "with open(\"mambai_language_manual_parallel.tsv\", \"w\") as f:\n",
    "    writer = csv.writer(f, delimiter=\"\\t\")\n",
    "    writer.writerow([\"Mambai\", \"English\"])\n",
    "    for mgm, eng in parallel_sentences:\n",
    "        writer.writerow([mgm, eng])"
   ]
  }
 ],
 "metadata": {
  "kernelspec": {
   "display_name": ".venv",
   "language": "python",
   "name": "python3"
  },
  "language_info": {
   "codemirror_mode": {
    "name": "ipython",
    "version": 3
   },
   "file_extension": ".py",
   "mimetype": "text/x-python",
   "name": "python",
   "nbconvert_exporter": "python",
   "pygments_lexer": "ipython3",
   "version": "3.10.13"
  }
 },
 "nbformat": 4,
 "nbformat_minor": 2
}
